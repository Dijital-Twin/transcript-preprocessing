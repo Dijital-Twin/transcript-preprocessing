{
 "cells": [
  {
   "cell_type": "code",
   "execution_count": 11,
   "metadata": {},
   "outputs": [
    {
     "name": "stderr",
     "output_type": "stream",
     "text": [
      "[nltk_data] Downloading package stopwords to\n",
      "[nltk_data]     /Users/volthai7us/nltk_data...\n",
      "[nltk_data]   Package stopwords is already up-to-date!\n"
     ]
    }
   ],
   "source": [
    "import json\n",
    "from collections import Counter\n",
    "import re\n",
    "from nltk.corpus import stopwords\n",
    "from wordcloud import WordCloud, STOPWORDS\n",
    "import matplotlib.pyplot as plt\n",
    "import pandas as pd\n",
    "import nltk\n",
    "import ssl\n",
    "import numpy as np \n",
    "import seaborn as sns\n",
    "import random\n",
    "ssl._create_default_https_context = ssl._create_unverified_context\n",
    "nltk.download('stopwords')\n",
    "\n",
    "from sklearn.feature_extraction.text import TfidfVectorizer \n",
    "import plotly.graph_objects as go\n",
    "from sklearn.model_selection import train_test_split\n",
    "from sklearn.naive_bayes import GaussianNB, MultinomialNB\n",
    "from sklearn.tree import DecisionTreeClassifier\n",
    "from sklearn.linear_model import LogisticRegression\n",
    "from sklearn.svm import LinearSVC\n",
    "from sklearn.metrics import accuracy_score, classification_report, confusion_matrix, roc_auc_score, roc_curve"
   ]
  },
  {
   "cell_type": "code",
   "execution_count": 12,
   "metadata": {},
   "outputs": [],
   "source": [
    "import tensorflow as tf"
   ]
  },
  {
   "cell_type": "code",
   "execution_count": 13,
   "metadata": {},
   "outputs": [
    {
     "name": "stdout",
     "output_type": "stream",
     "text": [
      "2.13.0-rc1\n",
      "[]\n"
     ]
    }
   ],
   "source": [
    "print(tf.__version__)\n",
    "print(tf.config.list_physical_devices('GPU'))"
   ]
  },
  {
   "cell_type": "code",
   "execution_count": 14,
   "metadata": {},
   "outputs": [],
   "source": [
    "def clean_and_split(text):\n",
    "    words = re.findall(r'\\b\\w+\\b', text.lower())\n",
    "    return words\n",
    "\n",
    "def preprocess_speaker(speaker): \n",
    "    file_path = f'./data/transcripts/friends-1-227-{speaker}-pair.json'\n",
    "\n",
    "    with open(file_path, 'r', encoding='utf-8') as file:\n",
    "        data = json.load(file)\n",
    "        \n",
    "        \n",
    "    all_answers = [item['answer'] for item in data]\n",
    "\n",
    "    all_answers = [clean_and_split(answer) for answer in all_answers]\n",
    "\n",
    "    stop_words = set(stopwords.words('english'))\n",
    "    \n",
    "    \n",
    "    def remove_stopwords(answer):\n",
    "        filtered_words = [word for word in answer if word.lower() not in stop_words]\n",
    "        return ' '.join(filtered_words)\n",
    "\n",
    "    all_answers = [remove_stopwords(answer) for answer in all_answers]\n",
    "\n",
    "    return all_answers"
   ]
  },
  {
   "cell_type": "code",
   "execution_count": 15,
   "metadata": {},
   "outputs": [],
   "source": [
    "speakers = (\"Rachel\", \"Chandler\", \"Phoebe\", \"Monica\", \"Ross\", \"Joey\")\n",
    "\n",
    "all_data = []\n",
    "\n",
    "for index, speaker in enumerate(speakers):\n",
    "    all_answers = preprocess_speaker(speaker=speaker)\n",
    "    speaker_data = [(answer, index) for answer in all_answers]\n",
    "    sample_size = min(5000, len(speaker_data))\n",
    "    random_sample = random.sample(speaker_data, sample_size)\n",
    "    all_data.extend(speaker_data)\n",
    "    \n",
    "speaker_combinations = []\n",
    "\n",
    "for speaker1 in speakers:\n",
    "    for speaker2 in speakers:\n",
    "        combination = f\"{speaker1}-{speaker2}\"\n",
    "        speaker_combinations.append(combination)\n",
    "\n",
    "df = pd.DataFrame(all_data, columns=['text', 'speaker'])\n",
    "df = df.sample(frac=1)\n",
    "\n"
   ]
  },
  {
   "cell_type": "code",
   "execution_count": 16,
   "metadata": {},
   "outputs": [],
   "source": [
    "docs = list(df['text'])\n",
    "tfidf_vectorizer = TfidfVectorizer(use_idf=True, max_features = 20000) \n",
    "tfidf_vectorizer_vectors = tfidf_vectorizer.fit_transform(docs)\n",
    "docs = tfidf_vectorizer_vectors.toarray()"
   ]
  },
  {
   "cell_type": "code",
   "execution_count": 17,
   "metadata": {},
   "outputs": [
    {
     "name": "stdout",
     "output_type": "stream",
     "text": [
      "(44485, 12508) (44485,)\n"
     ]
    }
   ],
   "source": [
    "X = docs \n",
    "y = df['speaker']\n",
    "print(X.shape, y.shape)"
   ]
  },
  {
   "cell_type": "code",
   "execution_count": 18,
   "metadata": {},
   "outputs": [
    {
     "data": {
      "application/vnd.plotly.v1+json": {
       "config": {
        "plotlyServerURL": "https://plot.ly"
       },
       "data": [
        {
         "type": "bar",
         "x": [
          0,
          4,
          1,
          3,
          5,
          2
         ],
         "y": [
          8165,
          7874,
          7351,
          7335,
          7181,
          6579
         ]
        }
       ],
       "layout": {
        "template": {
         "data": {
          "bar": [
           {
            "error_x": {
             "color": "#2a3f5f"
            },
            "error_y": {
             "color": "#2a3f5f"
            },
            "marker": {
             "line": {
              "color": "#E5ECF6",
              "width": 0.5
             },
             "pattern": {
              "fillmode": "overlay",
              "size": 10,
              "solidity": 0.2
             }
            },
            "type": "bar"
           }
          ],
          "barpolar": [
           {
            "marker": {
             "line": {
              "color": "#E5ECF6",
              "width": 0.5
             },
             "pattern": {
              "fillmode": "overlay",
              "size": 10,
              "solidity": 0.2
             }
            },
            "type": "barpolar"
           }
          ],
          "carpet": [
           {
            "aaxis": {
             "endlinecolor": "#2a3f5f",
             "gridcolor": "white",
             "linecolor": "white",
             "minorgridcolor": "white",
             "startlinecolor": "#2a3f5f"
            },
            "baxis": {
             "endlinecolor": "#2a3f5f",
             "gridcolor": "white",
             "linecolor": "white",
             "minorgridcolor": "white",
             "startlinecolor": "#2a3f5f"
            },
            "type": "carpet"
           }
          ],
          "choropleth": [
           {
            "colorbar": {
             "outlinewidth": 0,
             "ticks": ""
            },
            "type": "choropleth"
           }
          ],
          "contour": [
           {
            "colorbar": {
             "outlinewidth": 0,
             "ticks": ""
            },
            "colorscale": [
             [
              0,
              "#0d0887"
             ],
             [
              0.1111111111111111,
              "#46039f"
             ],
             [
              0.2222222222222222,
              "#7201a8"
             ],
             [
              0.3333333333333333,
              "#9c179e"
             ],
             [
              0.4444444444444444,
              "#bd3786"
             ],
             [
              0.5555555555555556,
              "#d8576b"
             ],
             [
              0.6666666666666666,
              "#ed7953"
             ],
             [
              0.7777777777777778,
              "#fb9f3a"
             ],
             [
              0.8888888888888888,
              "#fdca26"
             ],
             [
              1,
              "#f0f921"
             ]
            ],
            "type": "contour"
           }
          ],
          "contourcarpet": [
           {
            "colorbar": {
             "outlinewidth": 0,
             "ticks": ""
            },
            "type": "contourcarpet"
           }
          ],
          "heatmap": [
           {
            "colorbar": {
             "outlinewidth": 0,
             "ticks": ""
            },
            "colorscale": [
             [
              0,
              "#0d0887"
             ],
             [
              0.1111111111111111,
              "#46039f"
             ],
             [
              0.2222222222222222,
              "#7201a8"
             ],
             [
              0.3333333333333333,
              "#9c179e"
             ],
             [
              0.4444444444444444,
              "#bd3786"
             ],
             [
              0.5555555555555556,
              "#d8576b"
             ],
             [
              0.6666666666666666,
              "#ed7953"
             ],
             [
              0.7777777777777778,
              "#fb9f3a"
             ],
             [
              0.8888888888888888,
              "#fdca26"
             ],
             [
              1,
              "#f0f921"
             ]
            ],
            "type": "heatmap"
           }
          ],
          "heatmapgl": [
           {
            "colorbar": {
             "outlinewidth": 0,
             "ticks": ""
            },
            "colorscale": [
             [
              0,
              "#0d0887"
             ],
             [
              0.1111111111111111,
              "#46039f"
             ],
             [
              0.2222222222222222,
              "#7201a8"
             ],
             [
              0.3333333333333333,
              "#9c179e"
             ],
             [
              0.4444444444444444,
              "#bd3786"
             ],
             [
              0.5555555555555556,
              "#d8576b"
             ],
             [
              0.6666666666666666,
              "#ed7953"
             ],
             [
              0.7777777777777778,
              "#fb9f3a"
             ],
             [
              0.8888888888888888,
              "#fdca26"
             ],
             [
              1,
              "#f0f921"
             ]
            ],
            "type": "heatmapgl"
           }
          ],
          "histogram": [
           {
            "marker": {
             "pattern": {
              "fillmode": "overlay",
              "size": 10,
              "solidity": 0.2
             }
            },
            "type": "histogram"
           }
          ],
          "histogram2d": [
           {
            "colorbar": {
             "outlinewidth": 0,
             "ticks": ""
            },
            "colorscale": [
             [
              0,
              "#0d0887"
             ],
             [
              0.1111111111111111,
              "#46039f"
             ],
             [
              0.2222222222222222,
              "#7201a8"
             ],
             [
              0.3333333333333333,
              "#9c179e"
             ],
             [
              0.4444444444444444,
              "#bd3786"
             ],
             [
              0.5555555555555556,
              "#d8576b"
             ],
             [
              0.6666666666666666,
              "#ed7953"
             ],
             [
              0.7777777777777778,
              "#fb9f3a"
             ],
             [
              0.8888888888888888,
              "#fdca26"
             ],
             [
              1,
              "#f0f921"
             ]
            ],
            "type": "histogram2d"
           }
          ],
          "histogram2dcontour": [
           {
            "colorbar": {
             "outlinewidth": 0,
             "ticks": ""
            },
            "colorscale": [
             [
              0,
              "#0d0887"
             ],
             [
              0.1111111111111111,
              "#46039f"
             ],
             [
              0.2222222222222222,
              "#7201a8"
             ],
             [
              0.3333333333333333,
              "#9c179e"
             ],
             [
              0.4444444444444444,
              "#bd3786"
             ],
             [
              0.5555555555555556,
              "#d8576b"
             ],
             [
              0.6666666666666666,
              "#ed7953"
             ],
             [
              0.7777777777777778,
              "#fb9f3a"
             ],
             [
              0.8888888888888888,
              "#fdca26"
             ],
             [
              1,
              "#f0f921"
             ]
            ],
            "type": "histogram2dcontour"
           }
          ],
          "mesh3d": [
           {
            "colorbar": {
             "outlinewidth": 0,
             "ticks": ""
            },
            "type": "mesh3d"
           }
          ],
          "parcoords": [
           {
            "line": {
             "colorbar": {
              "outlinewidth": 0,
              "ticks": ""
             }
            },
            "type": "parcoords"
           }
          ],
          "pie": [
           {
            "automargin": true,
            "type": "pie"
           }
          ],
          "scatter": [
           {
            "fillpattern": {
             "fillmode": "overlay",
             "size": 10,
             "solidity": 0.2
            },
            "type": "scatter"
           }
          ],
          "scatter3d": [
           {
            "line": {
             "colorbar": {
              "outlinewidth": 0,
              "ticks": ""
             }
            },
            "marker": {
             "colorbar": {
              "outlinewidth": 0,
              "ticks": ""
             }
            },
            "type": "scatter3d"
           }
          ],
          "scattercarpet": [
           {
            "marker": {
             "colorbar": {
              "outlinewidth": 0,
              "ticks": ""
             }
            },
            "type": "scattercarpet"
           }
          ],
          "scattergeo": [
           {
            "marker": {
             "colorbar": {
              "outlinewidth": 0,
              "ticks": ""
             }
            },
            "type": "scattergeo"
           }
          ],
          "scattergl": [
           {
            "marker": {
             "colorbar": {
              "outlinewidth": 0,
              "ticks": ""
             }
            },
            "type": "scattergl"
           }
          ],
          "scattermapbox": [
           {
            "marker": {
             "colorbar": {
              "outlinewidth": 0,
              "ticks": ""
             }
            },
            "type": "scattermapbox"
           }
          ],
          "scatterpolar": [
           {
            "marker": {
             "colorbar": {
              "outlinewidth": 0,
              "ticks": ""
             }
            },
            "type": "scatterpolar"
           }
          ],
          "scatterpolargl": [
           {
            "marker": {
             "colorbar": {
              "outlinewidth": 0,
              "ticks": ""
             }
            },
            "type": "scatterpolargl"
           }
          ],
          "scatterternary": [
           {
            "marker": {
             "colorbar": {
              "outlinewidth": 0,
              "ticks": ""
             }
            },
            "type": "scatterternary"
           }
          ],
          "surface": [
           {
            "colorbar": {
             "outlinewidth": 0,
             "ticks": ""
            },
            "colorscale": [
             [
              0,
              "#0d0887"
             ],
             [
              0.1111111111111111,
              "#46039f"
             ],
             [
              0.2222222222222222,
              "#7201a8"
             ],
             [
              0.3333333333333333,
              "#9c179e"
             ],
             [
              0.4444444444444444,
              "#bd3786"
             ],
             [
              0.5555555555555556,
              "#d8576b"
             ],
             [
              0.6666666666666666,
              "#ed7953"
             ],
             [
              0.7777777777777778,
              "#fb9f3a"
             ],
             [
              0.8888888888888888,
              "#fdca26"
             ],
             [
              1,
              "#f0f921"
             ]
            ],
            "type": "surface"
           }
          ],
          "table": [
           {
            "cells": {
             "fill": {
              "color": "#EBF0F8"
             },
             "line": {
              "color": "white"
             }
            },
            "header": {
             "fill": {
              "color": "#C8D4E3"
             },
             "line": {
              "color": "white"
             }
            },
            "type": "table"
           }
          ]
         },
         "layout": {
          "annotationdefaults": {
           "arrowcolor": "#2a3f5f",
           "arrowhead": 0,
           "arrowwidth": 1
          },
          "autotypenumbers": "strict",
          "coloraxis": {
           "colorbar": {
            "outlinewidth": 0,
            "ticks": ""
           }
          },
          "colorscale": {
           "diverging": [
            [
             0,
             "#8e0152"
            ],
            [
             0.1,
             "#c51b7d"
            ],
            [
             0.2,
             "#de77ae"
            ],
            [
             0.3,
             "#f1b6da"
            ],
            [
             0.4,
             "#fde0ef"
            ],
            [
             0.5,
             "#f7f7f7"
            ],
            [
             0.6,
             "#e6f5d0"
            ],
            [
             0.7,
             "#b8e186"
            ],
            [
             0.8,
             "#7fbc41"
            ],
            [
             0.9,
             "#4d9221"
            ],
            [
             1,
             "#276419"
            ]
           ],
           "sequential": [
            [
             0,
             "#0d0887"
            ],
            [
             0.1111111111111111,
             "#46039f"
            ],
            [
             0.2222222222222222,
             "#7201a8"
            ],
            [
             0.3333333333333333,
             "#9c179e"
            ],
            [
             0.4444444444444444,
             "#bd3786"
            ],
            [
             0.5555555555555556,
             "#d8576b"
            ],
            [
             0.6666666666666666,
             "#ed7953"
            ],
            [
             0.7777777777777778,
             "#fb9f3a"
            ],
            [
             0.8888888888888888,
             "#fdca26"
            ],
            [
             1,
             "#f0f921"
            ]
           ],
           "sequentialminus": [
            [
             0,
             "#0d0887"
            ],
            [
             0.1111111111111111,
             "#46039f"
            ],
            [
             0.2222222222222222,
             "#7201a8"
            ],
            [
             0.3333333333333333,
             "#9c179e"
            ],
            [
             0.4444444444444444,
             "#bd3786"
            ],
            [
             0.5555555555555556,
             "#d8576b"
            ],
            [
             0.6666666666666666,
             "#ed7953"
            ],
            [
             0.7777777777777778,
             "#fb9f3a"
            ],
            [
             0.8888888888888888,
             "#fdca26"
            ],
            [
             1,
             "#f0f921"
            ]
           ]
          },
          "colorway": [
           "#636efa",
           "#EF553B",
           "#00cc96",
           "#ab63fa",
           "#FFA15A",
           "#19d3f3",
           "#FF6692",
           "#B6E880",
           "#FF97FF",
           "#FECB52"
          ],
          "font": {
           "color": "#2a3f5f"
          },
          "geo": {
           "bgcolor": "white",
           "lakecolor": "white",
           "landcolor": "#E5ECF6",
           "showlakes": true,
           "showland": true,
           "subunitcolor": "white"
          },
          "hoverlabel": {
           "align": "left"
          },
          "hovermode": "closest",
          "mapbox": {
           "style": "light"
          },
          "paper_bgcolor": "white",
          "plot_bgcolor": "#E5ECF6",
          "polar": {
           "angularaxis": {
            "gridcolor": "white",
            "linecolor": "white",
            "ticks": ""
           },
           "bgcolor": "#E5ECF6",
           "radialaxis": {
            "gridcolor": "white",
            "linecolor": "white",
            "ticks": ""
           }
          },
          "scene": {
           "xaxis": {
            "backgroundcolor": "#E5ECF6",
            "gridcolor": "white",
            "gridwidth": 2,
            "linecolor": "white",
            "showbackground": true,
            "ticks": "",
            "zerolinecolor": "white"
           },
           "yaxis": {
            "backgroundcolor": "#E5ECF6",
            "gridcolor": "white",
            "gridwidth": 2,
            "linecolor": "white",
            "showbackground": true,
            "ticks": "",
            "zerolinecolor": "white"
           },
           "zaxis": {
            "backgroundcolor": "#E5ECF6",
            "gridcolor": "white",
            "gridwidth": 2,
            "linecolor": "white",
            "showbackground": true,
            "ticks": "",
            "zerolinecolor": "white"
           }
          },
          "shapedefaults": {
           "line": {
            "color": "#2a3f5f"
           }
          },
          "ternary": {
           "aaxis": {
            "gridcolor": "white",
            "linecolor": "white",
            "ticks": ""
           },
           "baxis": {
            "gridcolor": "white",
            "linecolor": "white",
            "ticks": ""
           },
           "bgcolor": "#E5ECF6",
           "caxis": {
            "gridcolor": "white",
            "linecolor": "white",
            "ticks": ""
           }
          },
          "title": {
           "x": 0.05
          },
          "xaxis": {
           "automargin": true,
           "gridcolor": "white",
           "linecolor": "white",
           "ticks": "",
           "title": {
            "standoff": 15
           },
           "zerolinecolor": "white",
           "zerolinewidth": 2
          },
          "yaxis": {
           "automargin": true,
           "gridcolor": "white",
           "linecolor": "white",
           "ticks": "",
           "title": {
            "standoff": 15
           },
           "zerolinecolor": "white",
           "zerolinewidth": 2
          }
         }
        },
        "title": {
         "text": "Values in each Sentiment"
        },
        "xaxis": {
         "title": {
          "text": "Sentiment"
         }
        },
        "yaxis": {
         "title": {
          "text": "Values"
         }
        }
       }
      }
     },
     "metadata": {},
     "output_type": "display_data"
    }
   ],
   "source": [
    "fig = go.Figure([go.Bar(x=y.value_counts().index, y=y.value_counts().tolist())])\n",
    "fig.update_layout(\n",
    "    title=\"Values in each Sentiment\",\n",
    "    xaxis_title=\"Sentiment\",\n",
    "    yaxis_title=\"Values\")\n",
    "fig.show()"
   ]
  },
  {
   "cell_type": "code",
   "execution_count": 19,
   "metadata": {},
   "outputs": [],
   "source": [
    "def train_and_test(X, y, model=GaussianNB):\n",
    "    print(\"-\" * 50)\n",
    "    print(\"Model: \", model.__name__)\n",
    "    X_train,X_test,y_train,y_test = train_test_split(X, y, test_size=0.2, random_state=777, stratify=y)\n",
    "\n",
    "    m = model() \n",
    "    %time m.fit(X_train, y_train)\n",
    "\n",
    "    y_pred_train = m.predict(X_train)\n",
    "    y_pred_test = m.predict(X_test)\n",
    "    print(\"\\nTraining Accuracy score:\",accuracy_score(y_train, y_pred_train))\n",
    "    print(\"Testing Accuracy score:\",accuracy_score(y_test, y_pred_test))\n",
    "    \n",
    "    print(classification_report(y_test, y_pred_test, target_names=speakers))\n",
    "    \n",
    "    cm = confusion_matrix(y_test, y_pred_test, normalize='true')\n",
    "    # print('Confusion matrix\\n', cm)\n",
    "\n",
    "    cm_matrix = pd.DataFrame(data=cm, columns=speakers, index=speakers)\n",
    "    sns.heatmap(cm_matrix, annot=True , cmap='YlGnBu')\n",
    "    plt.show()"
   ]
  },
  {
   "cell_type": "code",
   "execution_count": 20,
   "metadata": {},
   "outputs": [
    {
     "name": "stdout",
     "output_type": "stream",
     "text": [
      "--------------------------------------------------\n",
      "Model:  LinearSVC\n",
      "CPU times: user 1.51 s, sys: 523 ms, total: 2.03 s\n",
      "Wall time: 2.51 s\n",
      "\n",
      "Training Accuracy score: 0.5304316061593796\n",
      "Testing Accuracy score: 0.27065302911093625\n",
      "              precision    recall  f1-score   support\n",
      "\n",
      "      Rachel       0.28      0.36      0.31      1633\n",
      "    Chandler       0.23      0.26      0.25      1470\n",
      "      Phoebe       0.27      0.19      0.22      1316\n",
      "      Monica       0.26      0.24      0.25      1467\n",
      "        Ross       0.29      0.28      0.28      1575\n",
      "        Joey       0.29      0.29      0.29      1436\n",
      "\n",
      "    accuracy                           0.27      8897\n",
      "   macro avg       0.27      0.27      0.27      8897\n",
      "weighted avg       0.27      0.27      0.27      8897\n",
      "\n"
     ]
    },
    {
     "data": {
      "image/png": "[encoded data removed]",
      "text/plain": [
       "<Figure size 640x480 with 2 Axes>"
      ]
     },
     "metadata": {},
     "output_type": "display_data"
    }
   ],
   "source": [
    "train_and_test(X=X, y=y, model=LinearSVC)"
   ]
  },
  {
   "cell_type": "code",
   "execution_count": 11,
   "metadata": {},
   "outputs": [],
   "source": [
    "from transformers import TFXLNetModel, XLNetTokenizer"
   ]
  },
  {
   "cell_type": "code",
   "execution_count": 70,
   "metadata": {},
   "outputs": [],
   "source": [
    "def create_xlnet(mname, number_of_classes):\n",
    "    \"\"\" Creates the model. It is composed of the XLNet main block and then\n",
    "    a classification head its added\n",
    "    \"\"\"\n",
    "    # Define token ids as inputs\n",
    "    word_inputs = tf.keras.Input(shape=(512,), name='word_inputs', dtype='int32')\n",
    "\n",
    "    # Call XLNet model\n",
    "    xlnet = TFXLNetModel.from_pretrained(mname)\n",
    "    xlnet_encodings = xlnet(word_inputs)[0]\n",
    "\n",
    "    # CLASSIFICATION HEAD \n",
    "    # Collect last step from last hidden state (CLS)\n",
    "    doc_encoding = tf.squeeze(xlnet_encodings[:, -1:, :], axis=1)\n",
    "    # Apply dropout for regularization\n",
    "    doc_encoding = tf.keras.layers.Dropout(.1)(doc_encoding)\n",
    "    # Final output \n",
    "    outputs = tf.keras.layers.Dense(number_of_classes, activation='sigmoid', name='outputs')(doc_encoding)\n",
    "\n",
    "    # Compile model\n",
    "    model = tf.keras.Model(inputs=[word_inputs], outputs=[outputs])\n",
    "    model.compile(optimizer=tf.keras.optimizers.Adam(lr=2e-5), loss='binary_crossentropy', metrics=['accuracy', tf.keras.metrics.Precision(), tf.keras.metrics.Recall()])\n",
    "\n",
    "    return model"
   ]
  },
  {
   "cell_type": "code",
   "execution_count": 71,
   "metadata": {},
   "outputs": [],
   "source": [
    "xlnet_model = 'xlnet-large-cased'"
   ]
  },
  {
   "cell_type": "code",
   "execution_count": 72,
   "metadata": {},
   "outputs": [
    {
     "name": "stderr",
     "output_type": "stream",
     "text": [
      "/Users/volthai7us/Library/Python/3.9/lib/python/site-packages/keras/src/initializers/initializers.py:120: UserWarning:\n",
      "\n",
      "The initializer TruncatedNormal is unseeded and being called multiple times, which will return identical values each time (even if the initializer is unseeded). Please update your code to provide a seed to the initializer, or avoid using the same initializer instance more than once.\n",
      "\n",
      "Some layers from the model checkpoint at xlnet-large-cased were not used when initializing TFXLNetModel: ['lm_loss']\n",
      "- This IS expected if you are initializing TFXLNetModel from the checkpoint of a model trained on another task or with another architecture (e.g. initializing a BertForSequenceClassification model from a BertForPreTraining model).\n",
      "- This IS NOT expected if you are initializing TFXLNetModel from the checkpoint of a model that you expect to be exactly identical (initializing a BertForSequenceClassification model from a BertForSequenceClassification model).\n",
      "All the layers of TFXLNetModel were initialized from the model checkpoint at xlnet-large-cased.\n",
      "If your task is similar to the task the model of the checkpoint was trained on, you can already use TFXLNetModel for predictions without further training.\n",
      "WARNING:absl:At this time, the v2.11+ optimizer `tf.keras.optimizers.Adam` runs slowly on M1/M2 Macs, please use the legacy Keras optimizer instead, located at `tf.keras.optimizers.legacy.Adam`.\n",
      "WARNING:absl:`lr` is deprecated in Keras optimizer, please use `learning_rate` or use the legacy optimizer, e.g.,tf.keras.optimizers.legacy.Adam.\n",
      "WARNING:absl:There is a known slowdown when using v2.11+ Keras optimizers on M1/M2 Macs. Falling back to the legacy Keras optimizer, i.e., `tf.keras.optimizers.legacy.Adam`.\n"
     ]
    }
   ],
   "source": [
    "xlnet = create_xlnet(xlnet_model, 1)"
   ]
  },
  {
   "cell_type": "code",
   "execution_count": 73,
   "metadata": {},
   "outputs": [],
   "source": [
    "from sklearn import preprocessing\n",
    "\n",
    "le = preprocessing.LabelEncoder()\n",
    "y = le.fit_transform(df['speaker'])"
   ]
  },
  {
   "cell_type": "code",
   "execution_count": 74,
   "metadata": {},
   "outputs": [],
   "source": [
    "text = df['text']\n",
    "labels = df['speaker']\n",
    "\n",
    "\n",
    "X_train, X_test, y_train, y_test = train_test_split(text, y, test_size=0.15, random_state=196)"
   ]
  },
  {
   "cell_type": "code",
   "execution_count": 75,
   "metadata": {},
   "outputs": [],
   "source": [
    "def get_inputs(text, tokenizer, max_len=512):\n",
    "    \"\"\" Gets tensors from text using the tokenizer provided\"\"\"\n",
    "    inps = [tokenizer.encode_plus(t, max_length=max_len, pad_to_max_length=True, add_special_tokens=True) for t in text]\n",
    "    inp_tok = np.array([a['input_ids'] for a in inps])\n",
    "    ids = np.array([a['attention_mask'] for a in inps])\n",
    "    segments = np.array([a['token_type_ids'] for a in inps])\n",
    "    return inp_tok, ids, segments"
   ]
  },
  {
   "cell_type": "code",
   "execution_count": 76,
   "metadata": {},
   "outputs": [],
   "source": [
    "def warmup(epoch, lr):\n",
    "    \"\"\"Used for increasing the learning rate slowly, this tends to achieve better convergence.\n",
    "    However, as we are finetuning for few epoch it's not crucial.\n",
    "    \"\"\"\n",
    "    return max(lr +1e-6, 2e-5)\n",
    "\n",
    "def plot_metrics(pred, true_labels):\n",
    "    \"\"\"Plots a ROC curve with the accuracy and the AUC\"\"\"\n",
    "    acc = accuracy_score(true_labels, np.array(pred.flatten() >= .5, dtype='int'))\n",
    "    fpr, tpr, thresholds = roc_curve(true_labels, pred)\n",
    "    auc = roc_auc_score(true_labels, pred)\n",
    "\n",
    "    fig, ax = plt.subplots(1, figsize=(8,8))\n",
    "    ax.plot(fpr, tpr, color='red')\n",
    "    ax.plot([0,1], [0,1], color='black', linestyle='--')\n",
    "    ax.set_title(f\"AUC: {auc}\\nACC: {acc}\");\n",
    "    return fig"
   ]
  },
  {
   "cell_type": "code",
   "execution_count": 77,
   "metadata": {},
   "outputs": [],
   "source": [
    "xlnet_tokenizer = XLNetTokenizer.from_pretrained(xlnet_model)"
   ]
  },
  {
   "cell_type": "code",
   "execution_count": 78,
   "metadata": {},
   "outputs": [
    {
     "name": "stderr",
     "output_type": "stream",
     "text": [
      "Truncation was not explicitly activated but `max_length` is provided a specific value, please use `truncation=True` to explicitly truncate examples to max length. Defaulting to 'longest_first' truncation strategy. If you encode pairs of sequences (GLUE-style) with the tokenizer you can select this strategy more precisely by providing a specific strategy to `truncation`.\n",
      "/opt/homebrew/lib/python3.9/site-packages/transformers/tokenization_utils_base.py:2618: FutureWarning:\n",
      "\n",
      "The `pad_to_max_length` argument is deprecated and will be removed in a future version, use `padding=True` or `padding='longest'` to pad to the longest sequence in the batch, or use `padding='max_length'` to pad to a max length. In this case, you can give a specific length with `max_length` (e.g. `max_length=45`) or leave max_length to None to pad to the maximal input size of the model (e.g. 512 for Bert).\n",
      "\n"
     ]
    }
   ],
   "source": [
    "inp_tok, ids, segments = get_inputs(X_train, xlnet_tokenizer)"
   ]
  },
  {
   "cell_type": "code",
   "execution_count": 79,
   "metadata": {},
   "outputs": [
    {
     "data": {
      "text/plain": [
       "(37812, 512)"
      ]
     },
     "execution_count": 79,
     "metadata": {},
     "output_type": "execute_result"
    }
   ],
   "source": [
    "inp_tok.shape"
   ]
  },
  {
   "cell_type": "code",
   "execution_count": 80,
   "metadata": {},
   "outputs": [],
   "source": [
    "callbacks = [\n",
    "    tf.keras.callbacks.EarlyStopping(monitor='val_accuracy', patience=4, min_delta=0.02, restore_best_weights=True),\n",
    "    tf.keras.callbacks.LearningRateScheduler(warmup, verbose=0),\n",
    "    tf.keras.callbacks.ReduceLROnPlateau(monitor='val_accuracy', factor=1e-6, patience=2, verbose=0, mode='auto', min_delta=0.001, cooldown=0, min_lr=1e-6)\n",
    "]"
   ]
  },
  {
   "cell_type": "code",
   "execution_count": 81,
   "metadata": {},
   "outputs": [
    {
     "name": "stdout",
     "output_type": "stream",
     "text": [
      "Epoch 1/4\n",
      "WARNING:tensorflow:Gradients do not exist for variables ['tfxl_net_model_1/transformer/mask_emb:0', 'tfxl_net_model_1/transformer/layer_._0/rel_attn/r_s_bias:0', 'tfxl_net_model_1/transformer/layer_._0/rel_attn/seg_embed:0', 'tfxl_net_model_1/transformer/layer_._1/rel_attn/r_s_bias:0', 'tfxl_net_model_1/transformer/layer_._1/rel_attn/seg_embed:0', 'tfxl_net_model_1/transformer/layer_._2/rel_attn/r_s_bias:0', 'tfxl_net_model_1/transformer/layer_._2/rel_attn/seg_embed:0', 'tfxl_net_model_1/transformer/layer_._3/rel_attn/r_s_bias:0', 'tfxl_net_model_1/transformer/layer_._3/rel_attn/seg_embed:0', 'tfxl_net_model_1/transformer/layer_._4/rel_attn/r_s_bias:0', 'tfxl_net_model_1/transformer/layer_._4/rel_attn/seg_embed:0', 'tfxl_net_model_1/transformer/layer_._5/rel_attn/r_s_bias:0', 'tfxl_net_model_1/transformer/layer_._5/rel_attn/seg_embed:0', 'tfxl_net_model_1/transformer/layer_._6/rel_attn/r_s_bias:0', 'tfxl_net_model_1/transformer/layer_._6/rel_attn/seg_embed:0', 'tfxl_net_model_1/transformer/layer_._7/rel_attn/r_s_bias:0', 'tfxl_net_model_1/transformer/layer_._7/rel_attn/seg_embed:0', 'tfxl_net_model_1/transformer/layer_._8/rel_attn/r_s_bias:0', 'tfxl_net_model_1/transformer/layer_._8/rel_attn/seg_embed:0', 'tfxl_net_model_1/transformer/layer_._9/rel_attn/r_s_bias:0', 'tfxl_net_model_1/transformer/layer_._9/rel_attn/seg_embed:0', 'tfxl_net_model_1/transformer/layer_._10/rel_attn/r_s_bias:0', 'tfxl_net_model_1/transformer/layer_._10/rel_attn/seg_embed:0', 'tfxl_net_model_1/transformer/layer_._11/rel_attn/r_s_bias:0', 'tfxl_net_model_1/transformer/layer_._11/rel_attn/seg_embed:0', 'tfxl_net_model_1/transformer/layer_._12/rel_attn/r_s_bias:0', 'tfxl_net_model_1/transformer/layer_._12/rel_attn/seg_embed:0', 'tfxl_net_model_1/transformer/layer_._13/rel_attn/r_s_bias:0', 'tfxl_net_model_1/transformer/layer_._13/rel_attn/seg_embed:0', 'tfxl_net_model_1/transformer/layer_._14/rel_attn/r_s_bias:0', 'tfxl_net_model_1/transformer/layer_._14/rel_attn/seg_embed:0', 'tfxl_net_model_1/transformer/layer_._15/rel_attn/r_s_bias:0', 'tfxl_net_model_1/transformer/layer_._15/rel_attn/seg_embed:0', 'tfxl_net_model_1/transformer/layer_._16/rel_attn/r_s_bias:0', 'tfxl_net_model_1/transformer/layer_._16/rel_attn/seg_embed:0', 'tfxl_net_model_1/transformer/layer_._17/rel_attn/r_s_bias:0', 'tfxl_net_model_1/transformer/layer_._17/rel_attn/seg_embed:0', 'tfxl_net_model_1/transformer/layer_._18/rel_attn/r_s_bias:0', 'tfxl_net_model_1/transformer/layer_._18/rel_attn/seg_embed:0', 'tfxl_net_model_1/transformer/layer_._19/rel_attn/r_s_bias:0', 'tfxl_net_model_1/transformer/layer_._19/rel_attn/seg_embed:0', 'tfxl_net_model_1/transformer/layer_._20/rel_attn/r_s_bias:0', 'tfxl_net_model_1/transformer/layer_._20/rel_attn/seg_embed:0', 'tfxl_net_model_1/transformer/layer_._21/rel_attn/r_s_bias:0', 'tfxl_net_model_1/transformer/layer_._21/rel_attn/seg_embed:0', 'tfxl_net_model_1/transformer/layer_._22/rel_attn/r_s_bias:0', 'tfxl_net_model_1/transformer/layer_._22/rel_attn/seg_embed:0', 'tfxl_net_model_1/transformer/layer_._23/rel_attn/r_s_bias:0', 'tfxl_net_model_1/transformer/layer_._23/rel_attn/seg_embed:0'] when minimizing the loss. If you're using `model.compile()`, did you forget to provide a `loss` argument?\n"
     ]
    },
    {
     "name": "stderr",
     "output_type": "stream",
     "text": [
      "WARNING:tensorflow:Gradients do not exist for variables ['tfxl_net_model_1/transformer/mask_emb:0', 'tfxl_net_model_1/transformer/layer_._0/rel_attn/r_s_bias:0', 'tfxl_net_model_1/transformer/layer_._0/rel_attn/seg_embed:0', 'tfxl_net_model_1/transformer/layer_._1/rel_attn/r_s_bias:0', 'tfxl_net_model_1/transformer/layer_._1/rel_attn/seg_embed:0', 'tfxl_net_model_1/transformer/layer_._2/rel_attn/r_s_bias:0', 'tfxl_net_model_1/transformer/layer_._2/rel_attn/seg_embed:0', 'tfxl_net_model_1/transformer/layer_._3/rel_attn/r_s_bias:0', 'tfxl_net_model_1/transformer/layer_._3/rel_attn/seg_embed:0', 'tfxl_net_model_1/transformer/layer_._4/rel_attn/r_s_bias:0', 'tfxl_net_model_1/transformer/layer_._4/rel_attn/seg_embed:0', 'tfxl_net_model_1/transformer/layer_._5/rel_attn/r_s_bias:0', 'tfxl_net_model_1/transformer/layer_._5/rel_attn/seg_embed:0', 'tfxl_net_model_1/transformer/layer_._6/rel_attn/r_s_bias:0', 'tfxl_net_model_1/transformer/layer_._6/rel_attn/seg_embed:0', 'tfxl_net_model_1/transformer/layer_._7/rel_attn/r_s_bias:0', 'tfxl_net_model_1/transformer/layer_._7/rel_attn/seg_embed:0', 'tfxl_net_model_1/transformer/layer_._8/rel_attn/r_s_bias:0', 'tfxl_net_model_1/transformer/layer_._8/rel_attn/seg_embed:0', 'tfxl_net_model_1/transformer/layer_._9/rel_attn/r_s_bias:0', 'tfxl_net_model_1/transformer/layer_._9/rel_attn/seg_embed:0', 'tfxl_net_model_1/transformer/layer_._10/rel_attn/r_s_bias:0', 'tfxl_net_model_1/transformer/layer_._10/rel_attn/seg_embed:0', 'tfxl_net_model_1/transformer/layer_._11/rel_attn/r_s_bias:0', 'tfxl_net_model_1/transformer/layer_._11/rel_attn/seg_embed:0', 'tfxl_net_model_1/transformer/layer_._12/rel_attn/r_s_bias:0', 'tfxl_net_model_1/transformer/layer_._12/rel_attn/seg_embed:0', 'tfxl_net_model_1/transformer/layer_._13/rel_attn/r_s_bias:0', 'tfxl_net_model_1/transformer/layer_._13/rel_attn/seg_embed:0', 'tfxl_net_model_1/transformer/layer_._14/rel_attn/r_s_bias:0', 'tfxl_net_model_1/transformer/layer_._14/rel_attn/seg_embed:0', 'tfxl_net_model_1/transformer/layer_._15/rel_attn/r_s_bias:0', 'tfxl_net_model_1/transformer/layer_._15/rel_attn/seg_embed:0', 'tfxl_net_model_1/transformer/layer_._16/rel_attn/r_s_bias:0', 'tfxl_net_model_1/transformer/layer_._16/rel_attn/seg_embed:0', 'tfxl_net_model_1/transformer/layer_._17/rel_attn/r_s_bias:0', 'tfxl_net_model_1/transformer/layer_._17/rel_attn/seg_embed:0', 'tfxl_net_model_1/transformer/layer_._18/rel_attn/r_s_bias:0', 'tfxl_net_model_1/transformer/layer_._18/rel_attn/seg_embed:0', 'tfxl_net_model_1/transformer/layer_._19/rel_attn/r_s_bias:0', 'tfxl_net_model_1/transformer/layer_._19/rel_attn/seg_embed:0', 'tfxl_net_model_1/transformer/layer_._20/rel_attn/r_s_bias:0', 'tfxl_net_model_1/transformer/layer_._20/rel_attn/seg_embed:0', 'tfxl_net_model_1/transformer/layer_._21/rel_attn/r_s_bias:0', 'tfxl_net_model_1/transformer/layer_._21/rel_attn/seg_embed:0', 'tfxl_net_model_1/transformer/layer_._22/rel_attn/r_s_bias:0', 'tfxl_net_model_1/transformer/layer_._22/rel_attn/seg_embed:0', 'tfxl_net_model_1/transformer/layer_._23/rel_attn/r_s_bias:0', 'tfxl_net_model_1/transformer/layer_._23/rel_attn/seg_embed:0'] when minimizing the loss. If you're using `model.compile()`, did you forget to provide a `loss` argument?\n"
     ]
    },
    {
     "name": "stdout",
     "output_type": "stream",
     "text": [
      "WARNING:tensorflow:Gradients do not exist for variables ['tfxl_net_model_1/transformer/mask_emb:0', 'tfxl_net_model_1/transformer/layer_._0/rel_attn/r_s_bias:0', 'tfxl_net_model_1/transformer/layer_._0/rel_attn/seg_embed:0', 'tfxl_net_model_1/transformer/layer_._1/rel_attn/r_s_bias:0', 'tfxl_net_model_1/transformer/layer_._1/rel_attn/seg_embed:0', 'tfxl_net_model_1/transformer/layer_._2/rel_attn/r_s_bias:0', 'tfxl_net_model_1/transformer/layer_._2/rel_attn/seg_embed:0', 'tfxl_net_model_1/transformer/layer_._3/rel_attn/r_s_bias:0', 'tfxl_net_model_1/transformer/layer_._3/rel_attn/seg_embed:0', 'tfxl_net_model_1/transformer/layer_._4/rel_attn/r_s_bias:0', 'tfxl_net_model_1/transformer/layer_._4/rel_attn/seg_embed:0', 'tfxl_net_model_1/transformer/layer_._5/rel_attn/r_s_bias:0', 'tfxl_net_model_1/transformer/layer_._5/rel_attn/seg_embed:0', 'tfxl_net_model_1/transformer/layer_._6/rel_attn/r_s_bias:0', 'tfxl_net_model_1/transformer/layer_._6/rel_attn/seg_embed:0', 'tfxl_net_model_1/transformer/layer_._7/rel_attn/r_s_bias:0', 'tfxl_net_model_1/transformer/layer_._7/rel_attn/seg_embed:0', 'tfxl_net_model_1/transformer/layer_._8/rel_attn/r_s_bias:0', 'tfxl_net_model_1/transformer/layer_._8/rel_attn/seg_embed:0', 'tfxl_net_model_1/transformer/layer_._9/rel_attn/r_s_bias:0', 'tfxl_net_model_1/transformer/layer_._9/rel_attn/seg_embed:0', 'tfxl_net_model_1/transformer/layer_._10/rel_attn/r_s_bias:0', 'tfxl_net_model_1/transformer/layer_._10/rel_attn/seg_embed:0', 'tfxl_net_model_1/transformer/layer_._11/rel_attn/r_s_bias:0', 'tfxl_net_model_1/transformer/layer_._11/rel_attn/seg_embed:0', 'tfxl_net_model_1/transformer/layer_._12/rel_attn/r_s_bias:0', 'tfxl_net_model_1/transformer/layer_._12/rel_attn/seg_embed:0', 'tfxl_net_model_1/transformer/layer_._13/rel_attn/r_s_bias:0', 'tfxl_net_model_1/transformer/layer_._13/rel_attn/seg_embed:0', 'tfxl_net_model_1/transformer/layer_._14/rel_attn/r_s_bias:0', 'tfxl_net_model_1/transformer/layer_._14/rel_attn/seg_embed:0', 'tfxl_net_model_1/transformer/layer_._15/rel_attn/r_s_bias:0', 'tfxl_net_model_1/transformer/layer_._15/rel_attn/seg_embed:0', 'tfxl_net_model_1/transformer/layer_._16/rel_attn/r_s_bias:0', 'tfxl_net_model_1/transformer/layer_._16/rel_attn/seg_embed:0', 'tfxl_net_model_1/transformer/layer_._17/rel_attn/r_s_bias:0', 'tfxl_net_model_1/transformer/layer_._17/rel_attn/seg_embed:0', 'tfxl_net_model_1/transformer/layer_._18/rel_attn/r_s_bias:0', 'tfxl_net_model_1/transformer/layer_._18/rel_attn/seg_embed:0', 'tfxl_net_model_1/transformer/layer_._19/rel_attn/r_s_bias:0', 'tfxl_net_model_1/transformer/layer_._19/rel_attn/seg_embed:0', 'tfxl_net_model_1/transformer/layer_._20/rel_attn/r_s_bias:0', 'tfxl_net_model_1/transformer/layer_._20/rel_attn/seg_embed:0', 'tfxl_net_model_1/transformer/layer_._21/rel_attn/r_s_bias:0', 'tfxl_net_model_1/transformer/layer_._21/rel_attn/seg_embed:0', 'tfxl_net_model_1/transformer/layer_._22/rel_attn/r_s_bias:0', 'tfxl_net_model_1/transformer/layer_._22/rel_attn/seg_embed:0', 'tfxl_net_model_1/transformer/layer_._23/rel_attn/r_s_bias:0', 'tfxl_net_model_1/transformer/layer_._23/rel_attn/seg_embed:0'] when minimizing the loss. If you're using `model.compile()`, did you forget to provide a `loss` argument?\n"
     ]
    },
    {
     "name": "stderr",
     "output_type": "stream",
     "text": [
      "WARNING:tensorflow:Gradients do not exist for variables ['tfxl_net_model_1/transformer/mask_emb:0', 'tfxl_net_model_1/transformer/layer_._0/rel_attn/r_s_bias:0', 'tfxl_net_model_1/transformer/layer_._0/rel_attn/seg_embed:0', 'tfxl_net_model_1/transformer/layer_._1/rel_attn/r_s_bias:0', 'tfxl_net_model_1/transformer/layer_._1/rel_attn/seg_embed:0', 'tfxl_net_model_1/transformer/layer_._2/rel_attn/r_s_bias:0', 'tfxl_net_model_1/transformer/layer_._2/rel_attn/seg_embed:0', 'tfxl_net_model_1/transformer/layer_._3/rel_attn/r_s_bias:0', 'tfxl_net_model_1/transformer/layer_._3/rel_attn/seg_embed:0', 'tfxl_net_model_1/transformer/layer_._4/rel_attn/r_s_bias:0', 'tfxl_net_model_1/transformer/layer_._4/rel_attn/seg_embed:0', 'tfxl_net_model_1/transformer/layer_._5/rel_attn/r_s_bias:0', 'tfxl_net_model_1/transformer/layer_._5/rel_attn/seg_embed:0', 'tfxl_net_model_1/transformer/layer_._6/rel_attn/r_s_bias:0', 'tfxl_net_model_1/transformer/layer_._6/rel_attn/seg_embed:0', 'tfxl_net_model_1/transformer/layer_._7/rel_attn/r_s_bias:0', 'tfxl_net_model_1/transformer/layer_._7/rel_attn/seg_embed:0', 'tfxl_net_model_1/transformer/layer_._8/rel_attn/r_s_bias:0', 'tfxl_net_model_1/transformer/layer_._8/rel_attn/seg_embed:0', 'tfxl_net_model_1/transformer/layer_._9/rel_attn/r_s_bias:0', 'tfxl_net_model_1/transformer/layer_._9/rel_attn/seg_embed:0', 'tfxl_net_model_1/transformer/layer_._10/rel_attn/r_s_bias:0', 'tfxl_net_model_1/transformer/layer_._10/rel_attn/seg_embed:0', 'tfxl_net_model_1/transformer/layer_._11/rel_attn/r_s_bias:0', 'tfxl_net_model_1/transformer/layer_._11/rel_attn/seg_embed:0', 'tfxl_net_model_1/transformer/layer_._12/rel_attn/r_s_bias:0', 'tfxl_net_model_1/transformer/layer_._12/rel_attn/seg_embed:0', 'tfxl_net_model_1/transformer/layer_._13/rel_attn/r_s_bias:0', 'tfxl_net_model_1/transformer/layer_._13/rel_attn/seg_embed:0', 'tfxl_net_model_1/transformer/layer_._14/rel_attn/r_s_bias:0', 'tfxl_net_model_1/transformer/layer_._14/rel_attn/seg_embed:0', 'tfxl_net_model_1/transformer/layer_._15/rel_attn/r_s_bias:0', 'tfxl_net_model_1/transformer/layer_._15/rel_attn/seg_embed:0', 'tfxl_net_model_1/transformer/layer_._16/rel_attn/r_s_bias:0', 'tfxl_net_model_1/transformer/layer_._16/rel_attn/seg_embed:0', 'tfxl_net_model_1/transformer/layer_._17/rel_attn/r_s_bias:0', 'tfxl_net_model_1/transformer/layer_._17/rel_attn/seg_embed:0', 'tfxl_net_model_1/transformer/layer_._18/rel_attn/r_s_bias:0', 'tfxl_net_model_1/transformer/layer_._18/rel_attn/seg_embed:0', 'tfxl_net_model_1/transformer/layer_._19/rel_attn/r_s_bias:0', 'tfxl_net_model_1/transformer/layer_._19/rel_attn/seg_embed:0', 'tfxl_net_model_1/transformer/layer_._20/rel_attn/r_s_bias:0', 'tfxl_net_model_1/transformer/layer_._20/rel_attn/seg_embed:0', 'tfxl_net_model_1/transformer/layer_._21/rel_attn/r_s_bias:0', 'tfxl_net_model_1/transformer/layer_._21/rel_attn/seg_embed:0', 'tfxl_net_model_1/transformer/layer_._22/rel_attn/r_s_bias:0', 'tfxl_net_model_1/transformer/layer_._22/rel_attn/seg_embed:0', 'tfxl_net_model_1/transformer/layer_._23/rel_attn/r_s_bias:0', 'tfxl_net_model_1/transformer/layer_._23/rel_attn/seg_embed:0'] when minimizing the loss. If you're using `model.compile()`, did you forget to provide a `loss` argument?\n"
     ]
    },
    {
     "name": "stdout",
     "output_type": "stream",
     "text": [
      "   14/16070 [..............................] - ETA: 46:39:14 - loss: -71.0012 - accuracy: 0.4286 - precision_1: 0.8182 - recall_1: 0.9000"
     ]
    },
    {
     "ename": "KeyboardInterrupt",
     "evalue": "",
     "output_type": "error",
     "traceback": [
      "\u001b[0;31m---------------------------------------------------------------------------\u001b[0m",
      "\u001b[0;31mKeyboardInterrupt\u001b[0m                         Traceback (most recent call last)",
      "Cell \u001b[0;32mIn[81], line 1\u001b[0m\n\u001b[0;32m----> 1\u001b[0m hist \u001b[38;5;241m=\u001b[39m \u001b[43mxlnet\u001b[49m\u001b[38;5;241;43m.\u001b[39;49m\u001b[43mfit\u001b[49m\u001b[43m(\u001b[49m\u001b[43mx\u001b[49m\u001b[38;5;241;43m=\u001b[39;49m\u001b[43minp_tok\u001b[49m\u001b[43m,\u001b[49m\u001b[43m \u001b[49m\u001b[43my\u001b[49m\u001b[38;5;241;43m=\u001b[39;49m\u001b[43my_train\u001b[49m\u001b[43m,\u001b[49m\u001b[43m \u001b[49m\u001b[43mepochs\u001b[49m\u001b[38;5;241;43m=\u001b[39;49m\u001b[38;5;241;43m4\u001b[39;49m\u001b[43m,\u001b[49m\u001b[43m \u001b[49m\u001b[43mbatch_size\u001b[49m\u001b[38;5;241;43m=\u001b[39;49m\u001b[38;5;241;43m2\u001b[39;49m\u001b[43m,\u001b[49m\u001b[43m \u001b[49m\u001b[43mvalidation_split\u001b[49m\u001b[38;5;241;43m=\u001b[39;49m\u001b[38;5;241;43m.15\u001b[39;49m\u001b[43m,\u001b[49m\u001b[43m \u001b[49m\u001b[43mcallbacks\u001b[49m\u001b[38;5;241;43m=\u001b[39;49m\u001b[43mcallbacks\u001b[49m\u001b[43m)\u001b[49m\n",
      "File \u001b[0;32m~/Library/Python/3.9/lib/python/site-packages/keras/src/utils/traceback_utils.py:65\u001b[0m, in \u001b[0;36mfilter_traceback.<locals>.error_handler\u001b[0;34m(*args, **kwargs)\u001b[0m\n\u001b[1;32m     63\u001b[0m filtered_tb \u001b[38;5;241m=\u001b[39m \u001b[38;5;28;01mNone\u001b[39;00m\n\u001b[1;32m     64\u001b[0m \u001b[38;5;28;01mtry\u001b[39;00m:\n\u001b[0;32m---> 65\u001b[0m     \u001b[38;5;28;01mreturn\u001b[39;00m \u001b[43mfn\u001b[49m\u001b[43m(\u001b[49m\u001b[38;5;241;43m*\u001b[39;49m\u001b[43margs\u001b[49m\u001b[43m,\u001b[49m\u001b[43m \u001b[49m\u001b[38;5;241;43m*\u001b[39;49m\u001b[38;5;241;43m*\u001b[39;49m\u001b[43mkwargs\u001b[49m\u001b[43m)\u001b[49m\n\u001b[1;32m     66\u001b[0m \u001b[38;5;28;01mexcept\u001b[39;00m \u001b[38;5;167;01mException\u001b[39;00m \u001b[38;5;28;01mas\u001b[39;00m e:\n\u001b[1;32m     67\u001b[0m     filtered_tb \u001b[38;5;241m=\u001b[39m _process_traceback_frames(e\u001b[38;5;241m.\u001b[39m__traceback__)\n",
      "File \u001b[0;32m~/Library/Python/3.9/lib/python/site-packages/keras/src/engine/training.py:1742\u001b[0m, in \u001b[0;36mModel.fit\u001b[0;34m(self, x, y, batch_size, epochs, verbose, callbacks, validation_split, validation_data, shuffle, class_weight, sample_weight, initial_epoch, steps_per_epoch, validation_steps, validation_batch_size, validation_freq, max_queue_size, workers, use_multiprocessing)\u001b[0m\n\u001b[1;32m   1734\u001b[0m \u001b[38;5;28;01mwith\u001b[39;00m tf\u001b[38;5;241m.\u001b[39mprofiler\u001b[38;5;241m.\u001b[39mexperimental\u001b[38;5;241m.\u001b[39mTrace(\n\u001b[1;32m   1735\u001b[0m     \u001b[38;5;124m\"\u001b[39m\u001b[38;5;124mtrain\u001b[39m\u001b[38;5;124m\"\u001b[39m,\n\u001b[1;32m   1736\u001b[0m     epoch_num\u001b[38;5;241m=\u001b[39mepoch,\n\u001b[0;32m   (...)\u001b[0m\n\u001b[1;32m   1739\u001b[0m     _r\u001b[38;5;241m=\u001b[39m\u001b[38;5;241m1\u001b[39m,\n\u001b[1;32m   1740\u001b[0m ):\n\u001b[1;32m   1741\u001b[0m     callbacks\u001b[38;5;241m.\u001b[39mon_train_batch_begin(step)\n\u001b[0;32m-> 1742\u001b[0m     tmp_logs \u001b[38;5;241m=\u001b[39m \u001b[38;5;28;43mself\u001b[39;49m\u001b[38;5;241;43m.\u001b[39;49m\u001b[43mtrain_function\u001b[49m\u001b[43m(\u001b[49m\u001b[43miterator\u001b[49m\u001b[43m)\u001b[49m\n\u001b[1;32m   1743\u001b[0m     \u001b[38;5;28;01mif\u001b[39;00m data_handler\u001b[38;5;241m.\u001b[39mshould_sync:\n\u001b[1;32m   1744\u001b[0m         context\u001b[38;5;241m.\u001b[39masync_wait()\n",
      "File \u001b[0;32m~/Library/Python/3.9/lib/python/site-packages/tensorflow/python/util/traceback_utils.py:150\u001b[0m, in \u001b[0;36mfilter_traceback.<locals>.error_handler\u001b[0;34m(*args, **kwargs)\u001b[0m\n\u001b[1;32m    148\u001b[0m filtered_tb \u001b[38;5;241m=\u001b[39m \u001b[38;5;28;01mNone\u001b[39;00m\n\u001b[1;32m    149\u001b[0m \u001b[38;5;28;01mtry\u001b[39;00m:\n\u001b[0;32m--> 150\u001b[0m   \u001b[38;5;28;01mreturn\u001b[39;00m \u001b[43mfn\u001b[49m\u001b[43m(\u001b[49m\u001b[38;5;241;43m*\u001b[39;49m\u001b[43margs\u001b[49m\u001b[43m,\u001b[49m\u001b[43m \u001b[49m\u001b[38;5;241;43m*\u001b[39;49m\u001b[38;5;241;43m*\u001b[39;49m\u001b[43mkwargs\u001b[49m\u001b[43m)\u001b[49m\n\u001b[1;32m    151\u001b[0m \u001b[38;5;28;01mexcept\u001b[39;00m \u001b[38;5;167;01mException\u001b[39;00m \u001b[38;5;28;01mas\u001b[39;00m e:\n\u001b[1;32m    152\u001b[0m   filtered_tb \u001b[38;5;241m=\u001b[39m _process_traceback_frames(e\u001b[38;5;241m.\u001b[39m__traceback__)\n",
      "File \u001b[0;32m~/Library/Python/3.9/lib/python/site-packages/tensorflow/python/eager/polymorphic_function/polymorphic_function.py:825\u001b[0m, in \u001b[0;36mFunction.__call__\u001b[0;34m(self, *args, **kwds)\u001b[0m\n\u001b[1;32m    822\u001b[0m compiler \u001b[38;5;241m=\u001b[39m \u001b[38;5;124m\"\u001b[39m\u001b[38;5;124mxla\u001b[39m\u001b[38;5;124m\"\u001b[39m \u001b[38;5;28;01mif\u001b[39;00m \u001b[38;5;28mself\u001b[39m\u001b[38;5;241m.\u001b[39m_jit_compile \u001b[38;5;28;01melse\u001b[39;00m \u001b[38;5;124m\"\u001b[39m\u001b[38;5;124mnonXla\u001b[39m\u001b[38;5;124m\"\u001b[39m\n\u001b[1;32m    824\u001b[0m \u001b[38;5;28;01mwith\u001b[39;00m OptionalXlaContext(\u001b[38;5;28mself\u001b[39m\u001b[38;5;241m.\u001b[39m_jit_compile):\n\u001b[0;32m--> 825\u001b[0m   result \u001b[38;5;241m=\u001b[39m \u001b[38;5;28;43mself\u001b[39;49m\u001b[38;5;241;43m.\u001b[39;49m\u001b[43m_call\u001b[49m\u001b[43m(\u001b[49m\u001b[38;5;241;43m*\u001b[39;49m\u001b[43margs\u001b[49m\u001b[43m,\u001b[49m\u001b[43m \u001b[49m\u001b[38;5;241;43m*\u001b[39;49m\u001b[38;5;241;43m*\u001b[39;49m\u001b[43mkwds\u001b[49m\u001b[43m)\u001b[49m\n\u001b[1;32m    827\u001b[0m new_tracing_count \u001b[38;5;241m=\u001b[39m \u001b[38;5;28mself\u001b[39m\u001b[38;5;241m.\u001b[39mexperimental_get_tracing_count()\n\u001b[1;32m    828\u001b[0m without_tracing \u001b[38;5;241m=\u001b[39m (tracing_count \u001b[38;5;241m==\u001b[39m new_tracing_count)\n",
      "File \u001b[0;32m~/Library/Python/3.9/lib/python/site-packages/tensorflow/python/eager/polymorphic_function/polymorphic_function.py:857\u001b[0m, in \u001b[0;36mFunction._call\u001b[0;34m(self, *args, **kwds)\u001b[0m\n\u001b[1;32m    854\u001b[0m   \u001b[38;5;28mself\u001b[39m\u001b[38;5;241m.\u001b[39m_lock\u001b[38;5;241m.\u001b[39mrelease()\n\u001b[1;32m    855\u001b[0m   \u001b[38;5;66;03m# In this case we have created variables on the first call, so we run the\u001b[39;00m\n\u001b[1;32m    856\u001b[0m   \u001b[38;5;66;03m# defunned version which is guaranteed to never create variables.\u001b[39;00m\n\u001b[0;32m--> 857\u001b[0m   \u001b[38;5;28;01mreturn\u001b[39;00m \u001b[38;5;28;43mself\u001b[39;49m\u001b[38;5;241;43m.\u001b[39;49m\u001b[43m_no_variable_creation_fn\u001b[49m\u001b[43m(\u001b[49m\u001b[38;5;241;43m*\u001b[39;49m\u001b[43margs\u001b[49m\u001b[43m,\u001b[49m\u001b[43m \u001b[49m\u001b[38;5;241;43m*\u001b[39;49m\u001b[38;5;241;43m*\u001b[39;49m\u001b[43mkwds\u001b[49m\u001b[43m)\u001b[49m  \u001b[38;5;66;03m# pylint: disable=not-callable\u001b[39;00m\n\u001b[1;32m    858\u001b[0m \u001b[38;5;28;01melif\u001b[39;00m \u001b[38;5;28mself\u001b[39m\u001b[38;5;241m.\u001b[39m_variable_creation_fn \u001b[38;5;129;01mis\u001b[39;00m \u001b[38;5;129;01mnot\u001b[39;00m \u001b[38;5;28;01mNone\u001b[39;00m:\n\u001b[1;32m    859\u001b[0m   \u001b[38;5;66;03m# Release the lock early so that multiple threads can perform the call\u001b[39;00m\n\u001b[1;32m    860\u001b[0m   \u001b[38;5;66;03m# in parallel.\u001b[39;00m\n\u001b[1;32m    861\u001b[0m   \u001b[38;5;28mself\u001b[39m\u001b[38;5;241m.\u001b[39m_lock\u001b[38;5;241m.\u001b[39mrelease()\n",
      "File \u001b[0;32m~/Library/Python/3.9/lib/python/site-packages/tensorflow/python/eager/polymorphic_function/tracing_compiler.py:148\u001b[0m, in \u001b[0;36mTracingCompiler.__call__\u001b[0;34m(self, *args, **kwargs)\u001b[0m\n\u001b[1;32m    145\u001b[0m \u001b[38;5;28;01mwith\u001b[39;00m \u001b[38;5;28mself\u001b[39m\u001b[38;5;241m.\u001b[39m_lock:\n\u001b[1;32m    146\u001b[0m   (concrete_function,\n\u001b[1;32m    147\u001b[0m    filtered_flat_args) \u001b[38;5;241m=\u001b[39m \u001b[38;5;28mself\u001b[39m\u001b[38;5;241m.\u001b[39m_maybe_define_function(args, kwargs)\n\u001b[0;32m--> 148\u001b[0m \u001b[38;5;28;01mreturn\u001b[39;00m \u001b[43mconcrete_function\u001b[49m\u001b[38;5;241;43m.\u001b[39;49m\u001b[43m_call_flat\u001b[49m\u001b[43m(\u001b[49m\n\u001b[1;32m    149\u001b[0m \u001b[43m    \u001b[49m\u001b[43mfiltered_flat_args\u001b[49m\u001b[43m,\u001b[49m\u001b[43m \u001b[49m\u001b[43mcaptured_inputs\u001b[49m\u001b[38;5;241;43m=\u001b[39;49m\u001b[43mconcrete_function\u001b[49m\u001b[38;5;241;43m.\u001b[39;49m\u001b[43mcaptured_inputs\u001b[49m\u001b[43m)\u001b[49m\n",
      "File \u001b[0;32m~/Library/Python/3.9/lib/python/site-packages/tensorflow/python/eager/polymorphic_function/monomorphic_function.py:1349\u001b[0m, in \u001b[0;36mConcreteFunction._call_flat\u001b[0;34m(self, args, captured_inputs)\u001b[0m\n\u001b[1;32m   1345\u001b[0m possible_gradient_type \u001b[38;5;241m=\u001b[39m gradients_util\u001b[38;5;241m.\u001b[39mPossibleTapeGradientTypes(args)\n\u001b[1;32m   1346\u001b[0m \u001b[38;5;28;01mif\u001b[39;00m (possible_gradient_type \u001b[38;5;241m==\u001b[39m gradients_util\u001b[38;5;241m.\u001b[39mPOSSIBLE_GRADIENT_TYPES_NONE\n\u001b[1;32m   1347\u001b[0m     \u001b[38;5;129;01mand\u001b[39;00m executing_eagerly):\n\u001b[1;32m   1348\u001b[0m   \u001b[38;5;66;03m# No tape is watching; skip to running the function.\u001b[39;00m\n\u001b[0;32m-> 1349\u001b[0m   \u001b[38;5;28;01mreturn\u001b[39;00m \u001b[38;5;28mself\u001b[39m\u001b[38;5;241m.\u001b[39m_build_call_outputs(\u001b[38;5;28;43mself\u001b[39;49m\u001b[38;5;241;43m.\u001b[39;49m\u001b[43m_inference_function\u001b[49m\u001b[43m(\u001b[49m\u001b[38;5;241;43m*\u001b[39;49m\u001b[43margs\u001b[49m\u001b[43m)\u001b[49m)\n\u001b[1;32m   1350\u001b[0m forward_backward \u001b[38;5;241m=\u001b[39m \u001b[38;5;28mself\u001b[39m\u001b[38;5;241m.\u001b[39m_select_forward_and_backward_functions(\n\u001b[1;32m   1351\u001b[0m     args,\n\u001b[1;32m   1352\u001b[0m     possible_gradient_type,\n\u001b[1;32m   1353\u001b[0m     executing_eagerly)\n\u001b[1;32m   1354\u001b[0m forward_function, args_with_tangents \u001b[38;5;241m=\u001b[39m forward_backward\u001b[38;5;241m.\u001b[39mforward()\n",
      "File \u001b[0;32m~/Library/Python/3.9/lib/python/site-packages/tensorflow/python/eager/polymorphic_function/atomic_function.py:196\u001b[0m, in \u001b[0;36mAtomicFunction.__call__\u001b[0;34m(self, *args)\u001b[0m\n\u001b[1;32m    194\u001b[0m \u001b[38;5;28;01mwith\u001b[39;00m record\u001b[38;5;241m.\u001b[39mstop_recording():\n\u001b[1;32m    195\u001b[0m   \u001b[38;5;28;01mif\u001b[39;00m \u001b[38;5;28mself\u001b[39m\u001b[38;5;241m.\u001b[39m_bound_context\u001b[38;5;241m.\u001b[39mexecuting_eagerly():\n\u001b[0;32m--> 196\u001b[0m     outputs \u001b[38;5;241m=\u001b[39m \u001b[38;5;28;43mself\u001b[39;49m\u001b[38;5;241;43m.\u001b[39;49m\u001b[43m_bound_context\u001b[49m\u001b[38;5;241;43m.\u001b[39;49m\u001b[43mcall_function\u001b[49m\u001b[43m(\u001b[49m\n\u001b[1;32m    197\u001b[0m \u001b[43m        \u001b[49m\u001b[38;5;28;43mself\u001b[39;49m\u001b[38;5;241;43m.\u001b[39;49m\u001b[43mname\u001b[49m\u001b[43m,\u001b[49m\n\u001b[1;32m    198\u001b[0m \u001b[43m        \u001b[49m\u001b[38;5;28;43mlist\u001b[39;49m\u001b[43m(\u001b[49m\u001b[43margs\u001b[49m\u001b[43m)\u001b[49m\u001b[43m,\u001b[49m\n\u001b[1;32m    199\u001b[0m \u001b[43m        \u001b[49m\u001b[38;5;28;43mlen\u001b[39;49m\u001b[43m(\u001b[49m\u001b[38;5;28;43mself\u001b[39;49m\u001b[38;5;241;43m.\u001b[39;49m\u001b[43mfunction_type\u001b[49m\u001b[38;5;241;43m.\u001b[39;49m\u001b[43mflat_outputs\u001b[49m\u001b[43m)\u001b[49m\u001b[43m,\u001b[49m\n\u001b[1;32m    200\u001b[0m \u001b[43m    \u001b[49m\u001b[43m)\u001b[49m\n\u001b[1;32m    201\u001b[0m   \u001b[38;5;28;01melse\u001b[39;00m:\n\u001b[1;32m    202\u001b[0m     outputs \u001b[38;5;241m=\u001b[39m make_call_op_in_graph(\u001b[38;5;28mself\u001b[39m, \u001b[38;5;28mlist\u001b[39m(args))\n",
      "File \u001b[0;32m~/Library/Python/3.9/lib/python/site-packages/tensorflow/python/eager/context.py:1457\u001b[0m, in \u001b[0;36mContext.call_function\u001b[0;34m(self, name, tensor_inputs, num_outputs)\u001b[0m\n\u001b[1;32m   1455\u001b[0m cancellation_context \u001b[38;5;241m=\u001b[39m cancellation\u001b[38;5;241m.\u001b[39mcontext()\n\u001b[1;32m   1456\u001b[0m \u001b[38;5;28;01mif\u001b[39;00m cancellation_context \u001b[38;5;129;01mis\u001b[39;00m \u001b[38;5;28;01mNone\u001b[39;00m:\n\u001b[0;32m-> 1457\u001b[0m   outputs \u001b[38;5;241m=\u001b[39m \u001b[43mexecute\u001b[49m\u001b[38;5;241;43m.\u001b[39;49m\u001b[43mexecute\u001b[49m\u001b[43m(\u001b[49m\n\u001b[1;32m   1458\u001b[0m \u001b[43m      \u001b[49m\u001b[43mname\u001b[49m\u001b[38;5;241;43m.\u001b[39;49m\u001b[43mdecode\u001b[49m\u001b[43m(\u001b[49m\u001b[38;5;124;43m\"\u001b[39;49m\u001b[38;5;124;43mutf-8\u001b[39;49m\u001b[38;5;124;43m\"\u001b[39;49m\u001b[43m)\u001b[49m\u001b[43m,\u001b[49m\n\u001b[1;32m   1459\u001b[0m \u001b[43m      \u001b[49m\u001b[43mnum_outputs\u001b[49m\u001b[38;5;241;43m=\u001b[39;49m\u001b[43mnum_outputs\u001b[49m\u001b[43m,\u001b[49m\n\u001b[1;32m   1460\u001b[0m \u001b[43m      \u001b[49m\u001b[43minputs\u001b[49m\u001b[38;5;241;43m=\u001b[39;49m\u001b[43mtensor_inputs\u001b[49m\u001b[43m,\u001b[49m\n\u001b[1;32m   1461\u001b[0m \u001b[43m      \u001b[49m\u001b[43mattrs\u001b[49m\u001b[38;5;241;43m=\u001b[39;49m\u001b[43mattrs\u001b[49m\u001b[43m,\u001b[49m\n\u001b[1;32m   1462\u001b[0m \u001b[43m      \u001b[49m\u001b[43mctx\u001b[49m\u001b[38;5;241;43m=\u001b[39;49m\u001b[38;5;28;43mself\u001b[39;49m\u001b[43m,\u001b[49m\n\u001b[1;32m   1463\u001b[0m \u001b[43m  \u001b[49m\u001b[43m)\u001b[49m\n\u001b[1;32m   1464\u001b[0m \u001b[38;5;28;01melse\u001b[39;00m:\n\u001b[1;32m   1465\u001b[0m   outputs \u001b[38;5;241m=\u001b[39m execute\u001b[38;5;241m.\u001b[39mexecute_with_cancellation(\n\u001b[1;32m   1466\u001b[0m       name\u001b[38;5;241m.\u001b[39mdecode(\u001b[38;5;124m\"\u001b[39m\u001b[38;5;124mutf-8\u001b[39m\u001b[38;5;124m\"\u001b[39m),\n\u001b[1;32m   1467\u001b[0m       num_outputs\u001b[38;5;241m=\u001b[39mnum_outputs,\n\u001b[0;32m   (...)\u001b[0m\n\u001b[1;32m   1471\u001b[0m       cancellation_manager\u001b[38;5;241m=\u001b[39mcancellation_context,\n\u001b[1;32m   1472\u001b[0m   )\n",
      "File \u001b[0;32m~/Library/Python/3.9/lib/python/site-packages/tensorflow/python/eager/execute.py:53\u001b[0m, in \u001b[0;36mquick_execute\u001b[0;34m(op_name, num_outputs, inputs, attrs, ctx, name)\u001b[0m\n\u001b[1;32m     51\u001b[0m \u001b[38;5;28;01mtry\u001b[39;00m:\n\u001b[1;32m     52\u001b[0m   ctx\u001b[38;5;241m.\u001b[39mensure_initialized()\n\u001b[0;32m---> 53\u001b[0m   tensors \u001b[38;5;241m=\u001b[39m \u001b[43mpywrap_tfe\u001b[49m\u001b[38;5;241;43m.\u001b[39;49m\u001b[43mTFE_Py_Execute\u001b[49m\u001b[43m(\u001b[49m\u001b[43mctx\u001b[49m\u001b[38;5;241;43m.\u001b[39;49m\u001b[43m_handle\u001b[49m\u001b[43m,\u001b[49m\u001b[43m \u001b[49m\u001b[43mdevice_name\u001b[49m\u001b[43m,\u001b[49m\u001b[43m \u001b[49m\u001b[43mop_name\u001b[49m\u001b[43m,\u001b[49m\n\u001b[1;32m     54\u001b[0m \u001b[43m                                      \u001b[49m\u001b[43minputs\u001b[49m\u001b[43m,\u001b[49m\u001b[43m \u001b[49m\u001b[43mattrs\u001b[49m\u001b[43m,\u001b[49m\u001b[43m \u001b[49m\u001b[43mnum_outputs\u001b[49m\u001b[43m)\u001b[49m\n\u001b[1;32m     55\u001b[0m \u001b[38;5;28;01mexcept\u001b[39;00m core\u001b[38;5;241m.\u001b[39m_NotOkStatusException \u001b[38;5;28;01mas\u001b[39;00m e:\n\u001b[1;32m     56\u001b[0m   \u001b[38;5;28;01mif\u001b[39;00m name \u001b[38;5;129;01mis\u001b[39;00m \u001b[38;5;129;01mnot\u001b[39;00m \u001b[38;5;28;01mNone\u001b[39;00m:\n",
      "\u001b[0;31mKeyboardInterrupt\u001b[0m: "
     ]
    }
   ],
   "source": [
    "hist = xlnet.fit(x=inp_tok, y=y_train, epochs=4, batch_size=2, validation_split=.15, callbacks=callbacks)"
   ]
  },
  {
   "cell_type": "code",
   "execution_count": null,
   "metadata": {},
   "outputs": [],
   "source": []
  }
 ],
 "metadata": {
  "kernelspec": {
   "display_name": "Python 3",
   "language": "python",
   "name": "python3"
  },
  "language_info": {
   "codemirror_mode": {
    "name": "ipython",
    "version": 3
   },
   "file_extension": ".py",
   "mimetype": "text/x-python",
   "name": "python",
   "nbconvert_exporter": "python",
   "pygments_lexer": "ipython3",
   "version": "3.9.18"
  }
 },
 "nbformat": 4,
 "nbformat_minor": 2
}
